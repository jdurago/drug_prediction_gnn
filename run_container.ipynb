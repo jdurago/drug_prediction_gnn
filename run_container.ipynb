{
 "cells": [
  {
   "cell_type": "markdown",
   "metadata": {
    "jupyter": {
     "outputs_hidden": true
    }
   },
   "source": [
    "# Push Docker Image to AWS Elastic Container Registry"
   ]
  },
  {
   "cell_type": "code",
   "execution_count": null,
   "metadata": {},
   "outputs": [],
   "source": [
    "!cd container; ./build_and_push.sh drug-prediction-gnn"
   ]
  },
  {
   "cell_type": "markdown",
   "metadata": {},
   "source": [
    "# Run Local Training Job"
   ]
  },
  {
   "cell_type": "code",
   "execution_count": null,
   "metadata": {},
   "outputs": [],
   "source": [
    "# Download the dataset to local\n",
    "! mkdir data\n",
    "\n",
    "# download pretrained mol2vec model\n",
    "!wget -O data/model_300dim.pkl https://github.com/samoturk/mol2vec/raw/master/examples/models/model_300dim.pkl model_300dim.pkl   \n",
    "\n",
    "# download example data     \n",
    "!wget -O data/ames.sdf https://github.com/samoturk/mol2vec/raw/master/examples/data/ames.sdf\n",
    "    \n",
    "#download hiv data\n",
    "!wget -O data/hiv.zip https://s3-us-west-1.amazonaws.com/deepchem.io/datasets/molnet_publish/hiv.zip\n",
    "!cd data; unzip hiv.zip"
   ]
  },
  {
   "cell_type": "code",
   "execution_count": null,
   "metadata": {},
   "outputs": [],
   "source": [
    "from sagemaker import get_execution_role\n",
    "\n",
    "role = get_execution_role()"
   ]
  },
  {
   "cell_type": "code",
   "execution_count": null,
   "metadata": {},
   "outputs": [],
   "source": [
    "import os\n",
    "import subprocess\n",
    "\n",
    "instance_type = 'local'\n",
    "\n",
    "if subprocess.call('nvidia-smi') == 0:\n",
    "    ## Set type to GPU if one is present\n",
    "    instance_type = 'local_gpu'\n",
    "    \n",
    "print(\"Instance type = \" + instance_type)"
   ]
  },
  {
   "cell_type": "code",
   "execution_count": null,
   "metadata": {},
   "outputs": [],
   "source": [
    "from sagemaker.estimator import Estimator\n",
    "\n",
    "hyperparameters = {'dev-mode':False, \n",
    "                   'net-type': 'GCN',\n",
    "                   'epochs': 2,\n",
    "                   'learning-rate':1e-4,\n",
    "                   'gcn-hidden-feats':128,\n",
    "                   'classifier-hidden-feats':512,\n",
    "                   'batch-size':200,\n",
    "                   'num-hidden-layers':2}\n",
    "\n",
    "estimator = Estimator(role=role,\n",
    "                      train_instance_count=1,\n",
    "                      train_instance_type=instance_type,\n",
    "                      image_name='drug-prediction-gnn:latest',\n",
    "                      hyperparameters=hyperparameters)\n",
    "\n",
    "estimator.fit('file:///home/ec2-user/SageMaker/graph_neural_net/data')"
   ]
  },
  {
   "cell_type": "markdown",
   "metadata": {},
   "source": [
    "# Run A Sagemaker Training Job"
   ]
  },
  {
   "cell_type": "code",
   "execution_count": null,
   "metadata": {},
   "outputs": [],
   "source": [
    "import sagemaker as sage\n",
    "\n",
    "sess = sage.Session()"
   ]
  },
  {
   "cell_type": "code",
   "execution_count": null,
   "metadata": {},
   "outputs": [],
   "source": [
    "import boto3\n",
    "\n",
    "client = boto3.client('sts')\n",
    "account = client.get_caller_identity()['Account']\n",
    "\n",
    "my_session = boto3.session.Session()\n",
    "region = my_session.region_name\n",
    "\n",
    "algorithm_name = 'drug-prediction-gnn'\n",
    "\n",
    "ecr_image = '{}.dkr.ecr.{}.amazonaws.com/{}:latest'.format(account, region, algorithm_name)\n",
    "\n",
    "print(ecr_image)"
   ]
  },
  {
   "cell_type": "code",
   "execution_count": null,
   "metadata": {},
   "outputs": [],
   "source": [
    "from sagemaker.estimator import Estimator\n",
    "\n",
    "data_location = 's3://jdurago-insight-2020a/data' # verify data has been uploaded to S3 bucket specified here\n",
    "output_path = 's3://jdurago-insight-2020a/output/baseline/' # output path where models will be saved\n",
    "max_run_time = 3*60*60 # train for max of 3 hours\n",
    "\n",
    "hyperparameters = {'dev-mode':False, \n",
    "                   'net-type': 'GCN',\n",
    "                   'epochs': 200,\n",
    "                   'learning-rate':1e-4,\n",
    "                   'gcn-hidden-feats':128,\n",
    "                   'classifier-hidden-feats':512,\n",
    "                   'batch-size':200,\n",
    "                   'num-hidden-layers':6}\n",
    "\n",
    "base_job_name = hyperparameters['net-type']\n",
    "\n",
    "metric_definitions = [{\"Name\": \"train:loss\", \n",
    "                       \"Regex\": \"train_loss:(\\d+.\\d+)\"}, \n",
    "                      {\"Name\": \"test:auc_roc\", \n",
    "                       \"Regex\": \"test_score:(\\d+.\\d+)\"},\n",
    "                      {\"Name\": \"val:auc_roc\", \n",
    "                       \"Regex\": \"auc_roc:(\\d+.\\d+)\"},\n",
    "                      {\"Name\": \"val:f1_score\", \n",
    "                       \"Regex\": \"f1_score:(\\d+.\\d+)\"}\n",
    "                     ]\n",
    "\n",
    "instance_type = 'ml.m5.12xlarge'\n",
    "\n",
    "tags = [{'Key': 'net-type',\n",
    "         'Value': hyperparameters['net-type']}]\n",
    "\n",
    "estimator = Estimator(role=role,\n",
    "                      base_job_name = base_job_name,\n",
    "                      train_instance_count=1,\n",
    "                       train_instance_type=instance_type,\n",
    "                      image_name=ecr_image,\n",
    "                      hyperparameters=hyperparameters,\n",
    "                     output_path = output_path,\n",
    "                     train_max_run=max_run_time,\n",
    "                     metric_definitions=metric_definitions,\n",
    "                     tags=tags)\n",
    "\n",
    "estimator.fit(data_location)\n"
   ]
  },
  {
   "cell_type": "markdown",
   "metadata": {},
   "source": [
    "# Hyperparameter Tuning"
   ]
  },
  {
   "cell_type": "code",
   "execution_count": null,
   "metadata": {},
   "outputs": [],
   "source": [
    "from sagemaker.tuner import IntegerParameter, CategoricalParameter, ContinuousParameter, HyperparameterTuner\n",
    "from sagemaker.estimator import Estimator\n",
    "import sagemaker as sage\n",
    "\n",
    "sess = sage.Session()\n",
    "\n",
    "max_jobs = 64\n",
    "max_parallel_jobs = 4\n",
    "\n",
    "data_location = 's3://jdurago-insight-2020a/data' # verify data has been uploaded to S3 bucket specified here\n",
    "output_path = 's3://jdurago-insight-2020a/output/baseline/' # output path where models will be saved\n",
    "max_run_time = 6*60*60 # train for max of 6 hours\n",
    "instance_type = 'ml.m5.4xlarge'\n",
    "\n",
    "\n",
    "hyperparameters = {'dev-mode':False, \n",
    "                   'net-type': 'GAT',\n",
    "                   'epochs': 200,\n",
    "                   'batch-size':200,\n",
    "                   'learning-rate':1e-4}\n",
    "\n",
    "base_tuning_job_name = 'hpm-tuning-' + hyperparameters['net-type']\n",
    "\n",
    "tags = [{'Key': 'net-type',\n",
    "         'Value': hyperparameters['net-type']}]\n",
    "\n",
    "# For GCN\n",
    "# hyperparameter_ranges = {'gcn-hidden-feats': CategoricalParameter([32,64,128,256,512]),\n",
    "#                          'classifier-hidden-feats': CategoricalParameter([32,64,128,256,512]),\n",
    "#                          'num-hidden-layers': CategoricalParameter([2,3,4,5,6])}\n",
    "\n",
    "# For GAT\n",
    "hyperparameter_ranges = {'gat-hidden-feats': CategoricalParameter([32,64,128]),\n",
    "                         'classifier-hidden-feats': CategoricalParameter([64,128,256,512]),\n",
    "                         'num-head-layers': CategoricalParameter([2,3,4,5,6]),\n",
    "                         'head-output-size': CategoricalParameter([2,3,4,5,6])}\n",
    "\n",
    "\n",
    "objective_metric_name = 'val:f1_score'\n",
    "objective_type = 'Maximize'\n",
    "metric_definitions = [{\"Name\": \"train:loss\", \n",
    "                       \"Regex\": \"train_loss:(\\d+.\\d+)\"}, \n",
    "                      {\"Name\": \"test:auc_roc\", \n",
    "                       \"Regex\": \"test_score:(\\d+.\\d+)\"},\n",
    "                      {\"Name\": \"val:auc_roc\", \n",
    "                       \"Regex\": \"auc_roc:(\\d+.\\d+)\"},\n",
    "                      {\"Name\": \"val:f1_score\", \n",
    "                       \"Regex\": \"f1_score:(\\d+.\\d+)\"}\n",
    "                     ]\n",
    "\n",
    "estimator = Estimator(role=role,\n",
    "                      train_instance_count=1,\n",
    "                       train_instance_type=instance_type,\n",
    "                      image_name=ecr_image,\n",
    "                      hyperparameters=hyperparameters,\n",
    "                     output_path = output_path,\n",
    "                     train_max_run=max_run_time,\n",
    "                     metric_definitions=metric_definitions,\n",
    "                     tags=tags)\n",
    "\n",
    "tuner = HyperparameterTuner(estimator,\n",
    "                            objective_metric_name,\n",
    "                            hyperparameter_ranges,\n",
    "                            metric_definitions,\n",
    "                            max_jobs=max_jobs,\n",
    "                            base_tuning_job_name = base_tuning_job_name,\n",
    "                            max_parallel_jobs=max_parallel_jobs,\n",
    "                            objective_type=objective_type)\n",
    "\n",
    "tuner.fit(data_location)"
   ]
  }
 ],
 "metadata": {
  "kernelspec": {
   "display_name": "conda_pytorch_p36",
   "language": "python",
   "name": "conda_pytorch_p36"
  },
  "language_info": {
   "codemirror_mode": {
    "name": "ipython",
    "version": 3
   },
   "file_extension": ".py",
   "mimetype": "text/x-python",
   "name": "python",
   "nbconvert_exporter": "python",
   "pygments_lexer": "ipython3",
   "version": "3.6.5"
  }
 },
 "nbformat": 4,
 "nbformat_minor": 4
}
